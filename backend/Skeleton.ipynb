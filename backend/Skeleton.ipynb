{
 "cells": [
  {
   "cell_type": "markdown",
   "metadata": {},
   "source": [
    "Skeleton Code for Bridge API"
   ]
  },
  {
   "cell_type": "code",
   "execution_count": 11,
   "metadata": {},
   "outputs": [],
   "source": [
    "import pandas as pd # data\n",
    "import requests # data\n",
    "from dotenv import load_dotenv\n",
    "import os # API"
   ]
  },
  {
   "cell_type": "code",
   "execution_count": 23,
   "metadata": {},
   "outputs": [
    {
     "name": "stdout",
     "output_type": "stream",
     "text": [
      "Not recieved\n",
      "{\"success\":false,\"status\":403,\"bundle\":{\"name\":\"AuthenticationError\",\"message\":\"Access token not found\"}}\n"
     ]
    }
   ],
   "source": [
    "\n",
    "\n",
    "url = \"https://api.bridgedataoutput.com/api/v2/zestimates_v2/zestimates/replication\"\n",
    "access_token = \"\"\n",
    "\n",
    "headers={\n",
    "    \"Authorization\": f\"Bearer {access_token}\"\n",
    "}\n",
    "\n",
    "params = {\n",
    "    \"access_token\": access_token,\n",
    "    \"$filter\": \"geo.distance(Coordinates, POINT(-79.394977 43.661652)) lt 1.1\",\n",
    "    #\"maxpagesize\": 2000\n",
    "}\n",
    "\n",
    "\n",
    "response = requests.get(url, headers=headers, params=params)\n",
    "\n",
    "if response.status_code == 200: \n",
    "    data = response.json()\n",
    "    print(data)\n",
    "    print(\"Recieved\")\n",
    "else: \n",
    "    print(\"Not recieved\")\n",
    "    print(response.text)"
   ]
  },
  {
   "cell_type": "code",
   "execution_count": null,
   "metadata": {},
   "outputs": [],
   "source": [
    "df = pd.DataFrame(data)"
   ]
  }
 ],
 "metadata": {
  "kernelspec": {
   "display_name": "Python 3",
   "language": "python",
   "name": "python3"
  },
  "language_info": {
   "codemirror_mode": {
    "name": "ipython",
    "version": 3
   },
   "file_extension": ".py",
   "mimetype": "text/x-python",
   "name": "python",
   "nbconvert_exporter": "python",
   "pygments_lexer": "ipython3",
   "version": "3.11.5"
  }
 },
 "nbformat": 4,
 "nbformat_minor": 2
}
